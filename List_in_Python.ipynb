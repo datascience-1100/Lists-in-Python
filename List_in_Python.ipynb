{
  "nbformat": 4,
  "nbformat_minor": 0,
  "metadata": {
    "colab": {
      "provenance": [],
      "authorship_tag": "ABX9TyM4KALCB2lV3baHML0FqRVU",
      "include_colab_link": true
    },
    "kernelspec": {
      "name": "python3",
      "display_name": "Python 3"
    },
    "language_info": {
      "name": "python"
    }
  },
  "cells": [
    {
      "cell_type": "markdown",
      "metadata": {
        "id": "view-in-github",
        "colab_type": "text"
      },
      "source": [
        "<a href=\"https://colab.research.google.com/github/datascience-1100/Lists-in-Python/blob/main/List_in_Python.ipynb\" target=\"_parent\"><img src=\"https://colab.research.google.com/assets/colab-badge.svg\" alt=\"Open In Colab\"/></a>"
      ]
    },
    {
      "cell_type": "code",
      "execution_count": null,
      "metadata": {
        "id": "284gKxS7p356",
        "colab": {
          "base_uri": "https://localhost:8080/"
        },
        "outputId": "2b636757-4476-4745-ee29-572e1aad0669"
      },
      "outputs": [
        {
          "output_type": "stream",
          "name": "stdout",
          "text": [
            "[1, 2, 3, 4, 5, 6, 'python']\n"
          ]
        }
      ],
      "source": [
        "#List definition- built in data type\n",
        "L=[1,2,3,4,5,6, 'python']\n",
        "print(L)"
      ]
    },
    {
      "cell_type": "code",
      "source": [
        "#Heterogeneous- Diff types of data can be stored"
      ],
      "metadata": {
        "id": "DocERVv_qG8l"
      },
      "execution_count": null,
      "outputs": []
    },
    {
      "cell_type": "code",
      "source": [
        "#How array works\n",
        "#mechanism behind the list\n",
        "#int array [4]\n",
        "L=[1,2,3,4]\n",
        "print(id(L))\n",
        "print(id(L[0]))\n",
        "print(id(1))\n",
        "print(id(L[1]))\n",
        "print(id(2))"
      ],
      "metadata": {
        "id": "7eBMwHbDqdB_",
        "colab": {
          "base_uri": "https://localhost:8080/"
        },
        "outputId": "d328f312-c697-4a43-f7bf-f7b508b1ab2f"
      },
      "execution_count": null,
      "outputs": [
        {
          "output_type": "stream",
          "name": "stdout",
          "text": [
            "133604296664192\n",
            "133605577572592\n",
            "133605577572592\n",
            "133605577572624\n",
            "133605577572624\n"
          ]
        }
      ]
    },
    {
      "cell_type": "code",
      "source": [
        "#Array vs List\n",
        "1. Fixed vs Dynamic\n",
        "2. Homogeneous vs Heterogeneous\n",
        "3. Speed of Execution\n",
        "4. Memory"
      ],
      "metadata": {
        "id": "UWeN_K8wtOyf"
      },
      "execution_count": null,
      "outputs": []
    },
    {
      "cell_type": "code",
      "source": [
        "#List is known as Referential array"
      ],
      "metadata": {
        "id": "6hvPhQvcugHv"
      },
      "execution_count": null,
      "outputs": []
    },
    {
      "cell_type": "code",
      "source": [
        "#Create a list"
      ],
      "metadata": {
        "id": "nYBLdOZuuoxc"
      },
      "execution_count": null,
      "outputs": []
    },
    {
      "cell_type": "code",
      "source": [
        "#Empty List\n",
        "print([])\n",
        "a=[]\n",
        "print(a)"
      ],
      "metadata": {
        "colab": {
          "base_uri": "https://localhost:8080/"
        },
        "id": "ewCjBSVRQ31T",
        "outputId": "845cc5ae-2fa3-43bb-d273-ab538567bbd1"
      },
      "execution_count": null,
      "outputs": [
        {
          "output_type": "stream",
          "name": "stdout",
          "text": [
            "[]\n",
            "[]\n"
          ]
        }
      ]
    },
    {
      "cell_type": "code",
      "source": [
        "#1D list\n",
        "# 1D Homogeneous\n",
        "print([1, 2, 3, 4])\n",
        "print([\"ab\",'bc','cd'])\n",
        "#1D Heterogeneous\n",
        "print([1, 'Python'])"
      ],
      "metadata": {
        "id": "yRhbnES5v7AV"
      },
      "execution_count": null,
      "outputs": []
    },
    {
      "cell_type": "code",
      "source": [
        "#2D Heterogeneous\n",
        "print([1, 2, 3, [4, 5]])\n",
        "print([[1,3],[2,4]])\n",
        "print([1,1.5], 2.3)"
      ],
      "metadata": {
        "id": "vNAlZY_eKlgv"
      },
      "execution_count": null,
      "outputs": []
    },
    {
      "cell_type": "code",
      "source": [
        "# 3D\n",
        "print([[1, 2], [3, 4], [5, 6], [7, 8]])\n"
      ],
      "metadata": {
        "colab": {
          "base_uri": "https://localhost:8080/"
        },
        "id": "GXpIxuKCL30D",
        "outputId": "204f62ac-c53c-40dd-baa7-7604bd7294be"
      },
      "execution_count": null,
      "outputs": [
        {
          "output_type": "stream",
          "name": "stdout",
          "text": [
            "[[1, 2], [3, 4], [5, 6], [7, 8]]\n"
          ]
        }
      ]
    },
    {
      "cell_type": "code",
      "source": [
        "_3Dlist = [\n",
        "    [\n",
        "        [1, 2, 3],\n",
        "        [4, 5, 6]\n",
        "    ],\n",
        "    [\n",
        "        [7, 8, 9],\n",
        "        [10, 11, 12]\n",
        "    ]\n",
        "]\n",
        "\n",
        "print(_3Dlist)"
      ],
      "metadata": {
        "id": "5dyR7lDQAoAW"
      },
      "execution_count": null,
      "outputs": []
    },
    {
      "cell_type": "code",
      "source": [
        "# Heterogeneous_list\n",
        "print([1, 'two', 3.0, [4, 5], {'key': 'value'}])"
      ],
      "metadata": {
        "id": "mnHkUcrCKlsZ"
      },
      "execution_count": null,
      "outputs": []
    },
    {
      "cell_type": "code",
      "source": [
        "print(list(range(5)))"
      ],
      "metadata": {
        "colab": {
          "base_uri": "https://localhost:8080/"
        },
        "id": "0alKFVNVL-CZ",
        "outputId": "832e93af-8d55-4732-b69b-1089522c1e7e"
      },
      "execution_count": null,
      "outputs": [
        {
          "output_type": "stream",
          "name": "stdout",
          "text": [
            "[0, 1, 2, 3, 4]\n"
          ]
        }
      ]
    },
    {
      "cell_type": "code",
      "source": [
        "a=list()\n",
        "print(a)\n",
        "type(a)"
      ],
      "metadata": {
        "colab": {
          "base_uri": "https://localhost:8080/"
        },
        "id": "K_FV_X0HGlVT",
        "outputId": "db3f711f-7f95-47fe-ea93-da377ab40d5b"
      },
      "execution_count": null,
      "outputs": [
        {
          "output_type": "stream",
          "name": "stdout",
          "text": [
            "[]\n"
          ]
        },
        {
          "output_type": "execute_result",
          "data": {
            "text/plain": [
              "list"
            ]
          },
          "metadata": {},
          "execution_count": 27
        }
      ]
    },
    {
      "cell_type": "code",
      "source": [
        "#Accessing\n",
        "#Indexing\n",
        "#positive\n",
        "#negative\n",
        "#Slicing"
      ],
      "metadata": {
        "id": "Mq1ahD4IwZJt"
      },
      "execution_count": null,
      "outputs": []
    },
    {
      "cell_type": "code",
      "source": [
        "#2 ways to traverse a list-  indexwise or itemwise"
      ],
      "metadata": {
        "id": "wZHEF5rAWyWc"
      },
      "execution_count": null,
      "outputs": []
    },
    {
      "cell_type": "code",
      "source": [
        "L=[1,2,3,4,5,6]\n",
        "#Indexing\n",
        "print(L[2])\n",
        "print(L[-1])\n",
        "\n",
        "#Itemwise\n",
        "for item in L:\n",
        "  print(item)"
      ],
      "metadata": {
        "id": "m0amOl3KWydQ",
        "colab": {
          "base_uri": "https://localhost:8080/"
        },
        "outputId": "9421a508-41fd-41cf-b874-421bb35f1e0a"
      },
      "execution_count": null,
      "outputs": [
        {
          "output_type": "stream",
          "name": "stdout",
          "text": [
            "3\n",
            "6\n",
            "1\n",
            "2\n",
            "3\n",
            "4\n",
            "5\n",
            "6\n"
          ]
        }
      ]
    },
    {
      "cell_type": "code",
      "source": [
        "#Slicing\n",
        "friend = [\"harry\",\"tom\",\"rani\",\"raja\",\"ram\",\"sam\"]\n",
        "print(friend[1:5])"
      ],
      "metadata": {
        "colab": {
          "base_uri": "https://localhost:8080/"
        },
        "id": "G-412nloRx9i",
        "outputId": "9c5a825a-b160-4bd2-e924-100b09bf270a"
      },
      "execution_count": null,
      "outputs": [
        {
          "output_type": "stream",
          "name": "stdout",
          "text": [
            "['tom', 'rani', 'raja', 'ram']\n"
          ]
        }
      ]
    },
    {
      "cell_type": "code",
      "source": [
        "print(friend[:3])"
      ],
      "metadata": {
        "colab": {
          "base_uri": "https://localhost:8080/"
        },
        "id": "MxbRUV5GR1JV",
        "outputId": "a92b0c8b-ef73-4e26-c1b1-f8f80959a423"
      },
      "execution_count": null,
      "outputs": [
        {
          "output_type": "stream",
          "name": "stdout",
          "text": [
            "['harry', 'tom', 'rani']\n"
          ]
        }
      ]
    },
    {
      "cell_type": "code",
      "source": [
        "print(friend[-3:])"
      ],
      "metadata": {
        "colab": {
          "base_uri": "https://localhost:8080/"
        },
        "id": "r9GyIgeBR13I",
        "outputId": "76e72e49-30f5-4c17-89ee-9fdad79e89ae"
      },
      "execution_count": null,
      "outputs": [
        {
          "output_type": "stream",
          "name": "stdout",
          "text": [
            "['raja', 'ram', 'sam']\n"
          ]
        }
      ]
    },
    {
      "cell_type": "code",
      "source": [
        "l=[1, 7, 9, 11, 15, 0]\n",
        "print(l[1:7])\n",
        "print(l[1:7:1])\n",
        "print(l[1:7:2])\n",
        "print(l[-1:-5:-1]) #negative slicing. To do reverse printing\n",
        "print(l[-1:-5:-2]) #Reverse printing with step size of 2\n",
        "print(l[-5:-1:1]) #printing using neative indexing\n",
        "print(l[-5:-1:2])"
      ],
      "metadata": {
        "id": "CsabA5VURokZ"
      },
      "execution_count": null,
      "outputs": []
    },
    {
      "cell_type": "code",
      "source": [
        "L= [11,2,3,4,5]\n",
        "for element in L:\n",
        "    print(element)"
      ],
      "metadata": {
        "id": "JSc3Ok2kR-gv"
      },
      "execution_count": null,
      "outputs": []
    },
    {
      "cell_type": "code",
      "source": [
        "#Adding items to the list\n",
        "L=[1,2,3,4]\n",
        "print(L.append(5))\n",
        "print(L)\n",
        "L1=[]\n",
        "L1=L.append(6)\n",
        "print(L)"
      ],
      "metadata": {
        "id": "HhDH2Zi54IiL",
        "colab": {
          "base_uri": "https://localhost:8080/"
        },
        "outputId": "8b5bd001-d491-41ec-dfeb-09ce94d6172b"
      },
      "execution_count": null,
      "outputs": [
        {
          "output_type": "stream",
          "name": "stdout",
          "text": [
            "None\n",
            "[1, 2, 3, 4, 5]\n",
            "[1, 2, 3, 4, 5, 6]\n"
          ]
        }
      ]
    },
    {
      "cell_type": "code",
      "source": [
        "#append\n",
        "list=[[1,2,3], [4,5,6]]\n",
        "newlist=[]\n",
        "for i in list:#4,5,6\n",
        "  for j in i:\n",
        "   newlist.append(j)\n",
        "print(newlist)"
      ],
      "metadata": {
        "id": "12qk2RV9SPSj"
      },
      "execution_count": null,
      "outputs": []
    },
    {
      "cell_type": "code",
      "source": [
        "#extend\n",
        "L=[1,2,3,4]\n",
        "L.extend([5,6,7])\n",
        "print(L)"
      ],
      "metadata": {
        "id": "ffB2wZ8S4LWE",
        "colab": {
          "base_uri": "https://localhost:8080/"
        },
        "outputId": "976e814a-dcf3-41cf-e62a-cd018cb096e0"
      },
      "execution_count": null,
      "outputs": [
        {
          "output_type": "stream",
          "name": "stdout",
          "text": [
            "[1, 2, 3, 4, 5, 6, 7]\n"
          ]
        }
      ]
    },
    {
      "cell_type": "code",
      "source": [
        "#insert\n",
        "L.insert(1, 100)\n",
        "print(L)\n"
      ],
      "metadata": {
        "id": "QaCjshWX4NCG"
      },
      "execution_count": null,
      "outputs": []
    },
    {
      "cell_type": "code",
      "source": [
        "L=[[1,2,3], [4,5,6], [7,8,9]]\n",
        "print(L[1][1])\n",
        "print(L[2][2])\n",
        "print(L[1][0])\n"
      ],
      "metadata": {
        "colab": {
          "base_uri": "https://localhost:8080/"
        },
        "id": "XJ28k6A35WMB",
        "outputId": "cac32fa7-8bc0-4f3f-d8ec-00a2b93d4f3a"
      },
      "execution_count": 39,
      "outputs": [
        {
          "output_type": "stream",
          "name": "stdout",
          "text": [
            "5\n",
            "9\n",
            "4\n"
          ]
        }
      ]
    },
    {
      "cell_type": "code",
      "source": [
        "# Example 3D list\n",
        "my_3d_list = [\n",
        "    [[1, 2, 3], [4, 5, 6]],\n",
        "    [[7, 8, 9], [10, 11, 12]],\n",
        "    [[13, 14, 15], [16, 17, 18]]\n",
        "]\n",
        "\n",
        "element = my_3d_list[0][1][2]\n",
        "print(element)\n",
        "print(my_3d_list[2][1][0])"
      ],
      "metadata": {
        "colab": {
          "base_uri": "https://localhost:8080/"
        },
        "id": "68Plk-ml94mp",
        "outputId": "e5017348-c983-4527-fbac-5456cb468493"
      },
      "execution_count": 44,
      "outputs": [
        {
          "output_type": "stream",
          "name": "stdout",
          "text": [
            "6\n",
            "16\n"
          ]
        }
      ]
    },
    {
      "cell_type": "code",
      "source": [
        "#Operators on List\n",
        "#Arithmetic Operator\n",
        "list1 = [1, 2, 3]\n",
        "list2 = [4, 5, 6]\n",
        "result = list1 + list2\n",
        "print(result)"
      ],
      "metadata": {
        "id": "-uv30FDq7Lqh",
        "colab": {
          "base_uri": "https://localhost:8080/"
        },
        "outputId": "7e0236fe-cb33-4695-f5a5-7ca8effbde6c"
      },
      "execution_count": 45,
      "outputs": [
        {
          "output_type": "stream",
          "name": "stdout",
          "text": [
            "[1, 2, 3, 4, 5, 6]\n"
          ]
        }
      ]
    },
    {
      "cell_type": "code",
      "source": [
        "my_list = [1, 2, 3]\n",
        "result = my_list * 3\n",
        "print(result)"
      ],
      "metadata": {
        "id": "csmpZvKYPJWV",
        "colab": {
          "base_uri": "https://localhost:8080/"
        },
        "outputId": "f1a2eb30-9ff0-4248-dad1-b60094cd1eb5"
      },
      "execution_count": 46,
      "outputs": [
        {
          "output_type": "stream",
          "name": "stdout",
          "text": [
            "[1, 2, 3, 1, 2, 3, 1, 2, 3]\n"
          ]
        }
      ]
    },
    {
      "cell_type": "code",
      "source": [
        "#Membership Operator"
      ],
      "metadata": {
        "id": "O7DxwQHl7PI4"
      },
      "execution_count": null,
      "outputs": []
    },
    {
      "cell_type": "code",
      "source": [
        "my_list = [1, 2, 3, 4, 5]\n",
        "if 3 in my_list:\n",
        "    print(\"3 is in the list\")"
      ],
      "metadata": {
        "id": "larNxF46PY-g",
        "colab": {
          "base_uri": "https://localhost:8080/"
        },
        "outputId": "d1b4acec-01b6-40ab-c342-ce4f541e0227"
      },
      "execution_count": 47,
      "outputs": [
        {
          "output_type": "stream",
          "name": "stdout",
          "text": [
            "3 is in the list\n"
          ]
        }
      ]
    },
    {
      "cell_type": "code",
      "source": [
        "my_list = [1, 2, 3, 4, 5]\n",
        "if 5 not in my_list:\n",
        "    print(\"6 is not in the list\")"
      ],
      "metadata": {
        "id": "LamfvbIiPcHk"
      },
      "execution_count": 49,
      "outputs": []
    },
    {
      "cell_type": "code",
      "source": [
        "#Editing with Indexing\n",
        "my_list=[1,3.5,7,9,9.6]\n",
        "my_list[1]=6\n",
        "print(my_list)"
      ],
      "metadata": {
        "id": "L8SmK9O57PL2",
        "colab": {
          "base_uri": "https://localhost:8080/"
        },
        "outputId": "b572957f-91d5-4523-e453-1138cbfb0655"
      },
      "execution_count": 51,
      "outputs": [
        {
          "output_type": "stream",
          "name": "stdout",
          "text": [
            "[1, 6, 7, 9, 9.6]\n"
          ]
        }
      ]
    },
    {
      "cell_type": "code",
      "source": [
        "#Editing using slicing\n",
        "my_list = [1, 3, 5, 7, 9]\n",
        "my_list[1:4]=[2,3]\n",
        "print(my_list)"
      ],
      "metadata": {
        "id": "EU1i7ImHXxEn",
        "colab": {
          "base_uri": "https://localhost:8080/"
        },
        "outputId": "a4f1ca20-a733-4c18-ac2d-21cae87a8bc2"
      },
      "execution_count": 52,
      "outputs": [
        {
          "output_type": "stream",
          "name": "stdout",
          "text": [
            "[1, 2, 3, 9]\n"
          ]
        }
      ]
    },
    {
      "cell_type": "code",
      "source": [
        "#Deleting using Indexing\n",
        "my_list = [1, 2, 3, 4, 5]\n",
        "del my_list\n",
        "print(my_list)"
      ],
      "metadata": {
        "id": "FyJ_HvtQ7PSS",
        "colab": {
          "base_uri": "https://localhost:8080/",
          "height": 180
        },
        "outputId": "bdfd4f3c-f86b-4220-b0c1-e89b6a520ae9"
      },
      "execution_count": 53,
      "outputs": [
        {
          "output_type": "error",
          "ename": "NameError",
          "evalue": "name 'my_list' is not defined",
          "traceback": [
            "\u001b[0;31m---------------------------------------------------------------------------\u001b[0m",
            "\u001b[0;31mNameError\u001b[0m                                 Traceback (most recent call last)",
            "\u001b[0;32m<ipython-input-53-fee2ef13f307>\u001b[0m in \u001b[0;36m<cell line: 4>\u001b[0;34m()\u001b[0m\n\u001b[1;32m      2\u001b[0m \u001b[0mmy_list\u001b[0m \u001b[0;34m=\u001b[0m \u001b[0;34m[\u001b[0m\u001b[0;36m1\u001b[0m\u001b[0;34m,\u001b[0m \u001b[0;36m2\u001b[0m\u001b[0;34m,\u001b[0m \u001b[0;36m3\u001b[0m\u001b[0;34m,\u001b[0m \u001b[0;36m4\u001b[0m\u001b[0;34m,\u001b[0m \u001b[0;36m5\u001b[0m\u001b[0;34m]\u001b[0m\u001b[0;34m\u001b[0m\u001b[0;34m\u001b[0m\u001b[0m\n\u001b[1;32m      3\u001b[0m \u001b[0;32mdel\u001b[0m \u001b[0mmy_list\u001b[0m\u001b[0;34m\u001b[0m\u001b[0;34m\u001b[0m\u001b[0m\n\u001b[0;32m----> 4\u001b[0;31m \u001b[0mprint\u001b[0m\u001b[0;34m(\u001b[0m\u001b[0mmy_list\u001b[0m\u001b[0;34m)\u001b[0m\u001b[0;34m\u001b[0m\u001b[0;34m\u001b[0m\u001b[0m\n\u001b[0m",
            "\u001b[0;31mNameError\u001b[0m: name 'my_list' is not defined"
          ]
        }
      ]
    },
    {
      "cell_type": "code",
      "source": [
        "#Deleting using Slicing\n",
        "my_list = [1, 2, 3, 4, 5]\n",
        "del my_list[1:3]\n",
        "print(my_list)"
      ],
      "metadata": {
        "id": "ahXjVS-t7Lr2",
        "colab": {
          "base_uri": "https://localhost:8080/"
        },
        "outputId": "ca0e8d73-fcd2-4a4d-e8aa-6e9f39d8cb65"
      },
      "execution_count": 54,
      "outputs": [
        {
          "output_type": "stream",
          "name": "stdout",
          "text": [
            "[1, 4, 5]\n"
          ]
        }
      ]
    },
    {
      "cell_type": "code",
      "source": [
        "#Remove\n",
        "my_list = [1, 2, 3, 4, 5]\n",
        "my_list.remove(1)\n",
        "print(my_list)"
      ],
      "metadata": {
        "id": "S0fvOxd87fBg",
        "colab": {
          "base_uri": "https://localhost:8080/"
        },
        "outputId": "5729df06-f719-4b0d-e773-ea949edca8d7"
      },
      "execution_count": 59,
      "outputs": [
        {
          "output_type": "stream",
          "name": "stdout",
          "text": [
            "[2, 3, 4, 5]\n"
          ]
        }
      ]
    },
    {
      "cell_type": "code",
      "source": [
        "#pop()\n",
        "my_list = [1, 2, 3, 4, 5]\n",
        "last_element = my_list.pop()\n",
        "print(\"Last element removed:\", last_element)\n",
        "print(\"Updated list:\", my_list)"
      ],
      "metadata": {
        "id": "3-r2iJuh7fEP",
        "colab": {
          "base_uri": "https://localhost:8080/"
        },
        "outputId": "5cd8c1ba-14e1-44d6-bc79-f092c675fb6f"
      },
      "execution_count": 60,
      "outputs": [
        {
          "output_type": "stream",
          "name": "stdout",
          "text": [
            "Last element removed: 5\n",
            "Updated list: [1, 2, 3, 4]\n"
          ]
        }
      ]
    },
    {
      "cell_type": "code",
      "source": [
        "# Removing and returning an element at a specified index\n",
        "element_at_index_2 = my_list.pop(2)\n",
        "print(\"Element removed at index 2:\", element_at_index_2)\n",
        "print(\"Updated list:\", my_list)"
      ],
      "metadata": {
        "id": "mfz051kHYRQE",
        "colab": {
          "base_uri": "https://localhost:8080/"
        },
        "outputId": "3f3770d5-e0df-409d-dbc2-f3ac9deda027"
      },
      "execution_count": 61,
      "outputs": [
        {
          "output_type": "stream",
          "name": "stdout",
          "text": [
            "Element removed at index 2: 3\n",
            "Updated list: [1, 2, 4]\n"
          ]
        }
      ]
    },
    {
      "cell_type": "code",
      "source": [
        "#clear()\n",
        "my_list = [1, 2, 3, 4, 5]\n",
        "my_list.clear()\n",
        "print(\"List after clearing:\", my_list)"
      ],
      "metadata": {
        "id": "slshwO9X7fHG",
        "colab": {
          "base_uri": "https://localhost:8080/"
        },
        "outputId": "22b5057d-0321-4a1c-bbbe-fafd529715e1"
      },
      "execution_count": 62,
      "outputs": [
        {
          "output_type": "stream",
          "name": "stdout",
          "text": [
            "List after clearing: []\n"
          ]
        }
      ]
    },
    {
      "cell_type": "code",
      "source": [
        "my_list = [1, 2, 3, 4, 5]\n",
        "del my_list\n",
        "print(my_list)"
      ],
      "metadata": {
        "colab": {
          "base_uri": "https://localhost:8080/",
          "height": 180
        },
        "id": "1ofj8dSqByBq",
        "outputId": "1c10ea1e-37da-4037-9a2a-a64e9408140f"
      },
      "execution_count": 63,
      "outputs": [
        {
          "output_type": "error",
          "ename": "NameError",
          "evalue": "name 'my_list' is not defined",
          "traceback": [
            "\u001b[0;31m---------------------------------------------------------------------------\u001b[0m",
            "\u001b[0;31mNameError\u001b[0m                                 Traceback (most recent call last)",
            "\u001b[0;32m<ipython-input-63-0d35e0f2680e>\u001b[0m in \u001b[0;36m<cell line: 3>\u001b[0;34m()\u001b[0m\n\u001b[1;32m      1\u001b[0m \u001b[0mmy_list\u001b[0m \u001b[0;34m=\u001b[0m \u001b[0;34m[\u001b[0m\u001b[0;36m1\u001b[0m\u001b[0;34m,\u001b[0m \u001b[0;36m2\u001b[0m\u001b[0;34m,\u001b[0m \u001b[0;36m3\u001b[0m\u001b[0;34m,\u001b[0m \u001b[0;36m4\u001b[0m\u001b[0;34m,\u001b[0m \u001b[0;36m5\u001b[0m\u001b[0;34m]\u001b[0m\u001b[0;34m\u001b[0m\u001b[0;34m\u001b[0m\u001b[0m\n\u001b[1;32m      2\u001b[0m \u001b[0;32mdel\u001b[0m \u001b[0mmy_list\u001b[0m\u001b[0;34m\u001b[0m\u001b[0;34m\u001b[0m\u001b[0m\n\u001b[0;32m----> 3\u001b[0;31m \u001b[0mprint\u001b[0m\u001b[0;34m(\u001b[0m\u001b[0mmy_list\u001b[0m\u001b[0;34m)\u001b[0m\u001b[0;34m\u001b[0m\u001b[0;34m\u001b[0m\u001b[0m\n\u001b[0m",
            "\u001b[0;31mNameError\u001b[0m: name 'my_list' is not defined"
          ]
        }
      ]
    },
    {
      "cell_type": "code",
      "source": [
        "my_list = [1, 2, 3, 4, 5]\n",
        "del my_list\n",
        "print(my_list)"
      ],
      "metadata": {
        "id": "A4kv6UxV8frM"
      },
      "execution_count": null,
      "outputs": []
    },
    {
      "cell_type": "code",
      "source": [
        "#Basic Functions\n",
        "#len()\n",
        "my_list = [1, 2, 3, 4, 5]\n",
        "length_of_list = len(my_list)\n",
        "print(length_of_list)"
      ],
      "metadata": {
        "id": "PDZkxoZu4k8R",
        "colab": {
          "base_uri": "https://localhost:8080/"
        },
        "outputId": "92b38b48-db14-4d10-e73c-41c6c29983f3"
      },
      "execution_count": 64,
      "outputs": [
        {
          "output_type": "stream",
          "name": "stdout",
          "text": [
            "5\n"
          ]
        }
      ]
    },
    {
      "cell_type": "code",
      "source": [
        "#max()\n",
        "my_list = [1, 3, 5, 7, 9]\n",
        "max_element = max(my_list)\n",
        "print(\"Maximum element in the list:\", max_element)"
      ],
      "metadata": {
        "id": "cC9inDJq4yYd",
        "colab": {
          "base_uri": "https://localhost:8080/"
        },
        "outputId": "5591422c-73f7-4ca3-ec81-4ade71d1c5cb"
      },
      "execution_count": 65,
      "outputs": [
        {
          "output_type": "stream",
          "name": "stdout",
          "text": [
            "Maximum element in the list: 9\n"
          ]
        }
      ]
    },
    {
      "cell_type": "code",
      "source": [
        "my_list = [1, 3, 5, 7, 9]\n",
        "min_element = min(my_list)\n",
        "print(\"Minimum element in the list:\", min_element)"
      ],
      "metadata": {
        "id": "j7qAFkov4yb1",
        "colab": {
          "base_uri": "https://localhost:8080/"
        },
        "outputId": "8c01ebb8-9e60-4bba-ff12-49b5bc580b04"
      },
      "execution_count": 66,
      "outputs": [
        {
          "output_type": "stream",
          "name": "stdout",
          "text": [
            "Minimum element in the list: 1\n"
          ]
        }
      ]
    },
    {
      "cell_type": "code",
      "source": [
        "#count()\n",
        "my_list = [1, 2, 3, 4, 2, 2, 5]\n",
        "\n",
        "# Counting the number of occurrences of a specific element\n",
        "a = my_list.count(5)\n",
        "print(\"Number of occurrences of 2:\", a)"
      ],
      "metadata": {
        "id": "-ChslCm14vFt",
        "colab": {
          "base_uri": "https://localhost:8080/"
        },
        "outputId": "7509a293-0f26-49eb-a9b7-10b4d67b0d31"
      },
      "execution_count": 68,
      "outputs": [
        {
          "output_type": "stream",
          "name": "stdout",
          "text": [
            "Number of occurrences of 2: 1\n"
          ]
        }
      ]
    },
    {
      "cell_type": "code",
      "source": [
        "#index()\n",
        "my_list = [1, 2, 3, 4, 2, 5]\n",
        "\n",
        "# Finding the index of a specific element\n",
        "index_of_two = my_list.index(5)\n",
        "print(\"Index of first occurrence of 2:\", index_of_two)\n"
      ],
      "metadata": {
        "id": "25aAmcHm4xE_",
        "colab": {
          "base_uri": "https://localhost:8080/"
        },
        "outputId": "2608012d-0e92-4775-cbab-f76a469e9893"
      },
      "execution_count": 70,
      "outputs": [
        {
          "output_type": "stream",
          "name": "stdout",
          "text": [
            "Index of first occurrence of 2: 5\n"
          ]
        }
      ]
    },
    {
      "cell_type": "code",
      "source": [
        "#reverse()\n",
        "my_list = [1, 2, 3, 4, 5, 90, 35]\n",
        "\n",
        "# Reversing the list\n",
        "my_list.reverse()\n",
        "print(\"Reversed list:\", my_list)"
      ],
      "metadata": {
        "id": "xFnu-0nI4xIf",
        "colab": {
          "base_uri": "https://localhost:8080/"
        },
        "outputId": "cf68d057-3ef2-4bdc-9fe8-e9c8023edce5"
      },
      "execution_count": 72,
      "outputs": [
        {
          "output_type": "stream",
          "name": "stdout",
          "text": [
            "Reversed list: [35, 90, 5, 4, 3, 2, 1]\n"
          ]
        }
      ]
    },
    {
      "cell_type": "code",
      "source": [
        "#sort() vs sorted()- sorts a list but works in a different way\n",
        "my_list = [3, 1, 10, 1, 5, 9, 2]\n",
        "my_list.sort()\n",
        "print(\"Sorted list using sort():\", my_list)\n",
        "print(my_list.sort())"
      ],
      "metadata": {
        "id": "DukOcQSw4xbB",
        "colab": {
          "base_uri": "https://localhost:8080/"
        },
        "outputId": "d52d3264-2683-490e-ec69-d600a31024ce"
      },
      "execution_count": 87,
      "outputs": [
        {
          "output_type": "stream",
          "name": "stdout",
          "text": [
            "Sorted list using sort(): [1, 1, 2, 3, 5, 9, 10]\n",
            "None\n"
          ]
        }
      ]
    },
    {
      "cell_type": "code",
      "source": [
        "my_list = [3, 1, 4, 1, 5, 9, 2]\n",
        "sorted_list = sorted(my_list)\n",
        "print(\"Sorted list using sorted():\", sorted_list)\n",
        "print(my_list)"
      ],
      "metadata": {
        "id": "7YR7zpSJRqm5",
        "colab": {
          "base_uri": "https://localhost:8080/"
        },
        "outputId": "5a6fa662-421c-4f60-f068-3163466675d4"
      },
      "execution_count": 89,
      "outputs": [
        {
          "output_type": "stream",
          "name": "stdout",
          "text": [
            "Sorted list using sorted(): [1, 1, 2, 3, 4, 5, 9]\n",
            "[3, 1, 4, 1, 5, 9, 2]\n"
          ]
        }
      ]
    },
    {
      "cell_type": "code",
      "source": [
        "#List Comprehension\n",
        "#new_list = [expression for item in iterable if condition]"
      ],
      "metadata": {
        "id": "9Ced-61v5FHN"
      },
      "execution_count": null,
      "outputs": []
    },
    {
      "cell_type": "code",
      "source": [
        "a=[4,6,8,2,4,9,40]\n",
        "b=[item*item for item in a if item>5]\n",
        "print(b)"
      ],
      "metadata": {
        "colab": {
          "base_uri": "https://localhost:8080/"
        },
        "id": "yYwZD7PI4qsQ",
        "outputId": "b84066ab-abeb-4652-91d2-0a39bf7dcd84"
      },
      "execution_count": 146,
      "outputs": [
        {
          "output_type": "stream",
          "name": "stdout",
          "text": [
            "[36, 64, 81, 1600]\n"
          ]
        }
      ]
    },
    {
      "cell_type": "code",
      "source": [
        "list=[[1,2,3], [4,5,5]]\n",
        "list2 =[j for i in list for j in i]\n",
        "print(list2)"
      ],
      "metadata": {
        "id": "HY2VFQ4FWuKB",
        "colab": {
          "base_uri": "https://localhost:8080/"
        },
        "outputId": "c9db04ba-358d-4612-ab09-688bdc4e8a5c"
      },
      "execution_count": 151,
      "outputs": [
        {
          "output_type": "stream",
          "name": "stdout",
          "text": [
            "[1, 2, 3, 4, 5, 5]\n"
          ]
        }
      ]
    },
    {
      "cell_type": "code",
      "source": [
        "numbers = [1, 2, 3, 4, 5]\n",
        "squares = [num ** 2 for num in numbers if num % 2 == 0]\n",
        "print(squares)"
      ],
      "metadata": {
        "id": "Swoyov9Ha8el",
        "colab": {
          "base_uri": "https://localhost:8080/"
        },
        "outputId": "eb496962-84f7-449e-e4ab-9c9118c2db26"
      },
      "execution_count": 153,
      "outputs": [
        {
          "output_type": "stream",
          "name": "stdout",
          "text": [
            "[4, 16]\n"
          ]
        }
      ]
    },
    {
      "cell_type": "code",
      "source": [
        "# Convert a list of strings to integers\n",
        "str_list = ['1', '2', '3', '4']\n",
        "int_list = [int(x) for x in str_list]\n",
        "print(int_list)"
      ],
      "metadata": {
        "id": "j9_CpMu5SVHW",
        "colab": {
          "base_uri": "https://localhost:8080/"
        },
        "outputId": "8f421894-bc14-4721-8d23-0267d3c76e6c"
      },
      "execution_count": 154,
      "outputs": [
        {
          "output_type": "stream",
          "name": "stdout",
          "text": [
            "[1, 2, 3, 4]\n"
          ]
        }
      ]
    },
    {
      "cell_type": "code",
      "source": [
        "#square all the numbers from 1 to 10\n",
        "a=[i**2 for i in range(1,11)]\n",
        "print(a)"
      ],
      "metadata": {
        "colab": {
          "base_uri": "https://localhost:8080/"
        },
        "id": "fdOot6Vq713W",
        "outputId": "400d3936-3521-4e89-9649-ffa966639ec2"
      },
      "execution_count": 155,
      "outputs": [
        {
          "output_type": "stream",
          "name": "stdout",
          "text": [
            "[1, 4, 9, 16, 25, 36, 49, 64, 81, 100]\n"
          ]
        }
      ]
    },
    {
      "cell_type": "code",
      "source": [
        "words=['I', 'love', 'Python']\n",
        "b= [word.upper() for word in words]\n",
        "print(b)"
      ],
      "metadata": {
        "colab": {
          "base_uri": "https://localhost:8080/"
        },
        "id": "mOsZo-up8HWR",
        "outputId": "acc1d4da-90bd-4cb2-d226-f335d4a2eb31"
      },
      "execution_count": 157,
      "outputs": [
        {
          "output_type": "stream",
          "name": "stdout",
          "text": [
            "['I', 'LOVE', 'PYTHON']\n"
          ]
        }
      ]
    },
    {
      "cell_type": "code",
      "source": [
        "words = ['p', 'lOve', 'Python']\n",
        "c=[a for a in words if any(char.lower() in 'aeiou' for char in a)]\n",
        "print(c)"
      ],
      "metadata": {
        "colab": {
          "base_uri": "https://localhost:8080/"
        },
        "id": "A-cPGo8s8YiY",
        "outputId": "0b2b9f0e-b96d-47fa-eae7-4b5547d11e5e"
      },
      "execution_count": 167,
      "outputs": [
        {
          "output_type": "stream",
          "name": "stdout",
          "text": [
            "['lOve', 'Python']\n"
          ]
        }
      ]
    },
    {
      "cell_type": "code",
      "source": [
        "words = ['I', 'lOve', 'Python']\n",
        "b=[len(word) for word in words]\n",
        "print(b)"
      ],
      "metadata": {
        "colab": {
          "base_uri": "https://localhost:8080/"
        },
        "id": "hm_lvlic-6VM",
        "outputId": "52e697df-6792-48f5-dbbf-77dc8e0434c2"
      },
      "execution_count": 168,
      "outputs": [
        {
          "output_type": "stream",
          "name": "stdout",
          "text": [
            "[1, 4, 6]\n"
          ]
        }
      ]
    },
    {
      "cell_type": "code",
      "source": [
        "#enumerate function\n",
        "def remove_duplicates(input_str):\n",
        "    # Use list comprehension to filter unique characters while preserving order\n",
        "    return ''.join([char for i, char in enumerate(input_str) if char not in input_str[:i]])\n",
        "\n",
        "input_string = \"hello\"\n",
        "output_string = remove_duplicates(input_string)\n",
        "print(output_string)"
      ],
      "metadata": {
        "id": "pr69t7gcCw4N"
      },
      "execution_count": null,
      "outputs": []
    }
  ]
}