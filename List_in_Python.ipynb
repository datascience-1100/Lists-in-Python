{
  "nbformat": 4,
  "nbformat_minor": 0,
  "metadata": {
    "colab": {
      "provenance": [],
      "authorship_tag": "ABX9TyOSYsKOCgYZPYOp8uND/YuB",
      "include_colab_link": true
    },
    "kernelspec": {
      "name": "python3",
      "display_name": "Python 3"
    },
    "language_info": {
      "name": "python"
    }
  },
  "cells": [
    {
      "cell_type": "markdown",
      "metadata": {
        "id": "view-in-github",
        "colab_type": "text"
      },
      "source": [
        "<a href=\"https://colab.research.google.com/github/datascience-1100/Lists-in-Python/blob/main/List_in_Python.ipynb\" target=\"_parent\"><img src=\"https://colab.research.google.com/assets/colab-badge.svg\" alt=\"Open In Colab\"/></a>"
      ]
    },
    {
      "cell_type": "code",
      "execution_count": 3,
      "metadata": {
        "id": "284gKxS7p356",
        "colab": {
          "base_uri": "https://localhost:8080/"
        },
        "outputId": "2b636757-4476-4745-ee29-572e1aad0669"
      },
      "outputs": [
        {
          "output_type": "stream",
          "name": "stdout",
          "text": [
            "[1, 2, 3, 4, 5, 6, 'python']\n"
          ]
        }
      ],
      "source": [
        "#List definition- built in data type\n",
        "L=[1,2,3,4,5,6, 'python']\n",
        "print(L)"
      ]
    },
    {
      "cell_type": "code",
      "source": [
        "#Heterogeneous- Diff types of data can be stored"
      ],
      "metadata": {
        "id": "DocERVv_qG8l"
      },
      "execution_count": null,
      "outputs": []
    },
    {
      "cell_type": "code",
      "source": [
        "#How array works\n",
        "#mechanism behind the list\n",
        "#int array [4]\n",
        "L=[1,2,3,4]\n",
        "print(id(L))\n",
        "print(id(L[0]))\n",
        "print(id(1))\n",
        "print(id(L[1]))\n",
        "print(id(2))"
      ],
      "metadata": {
        "id": "7eBMwHbDqdB_",
        "colab": {
          "base_uri": "https://localhost:8080/"
        },
        "outputId": "d328f312-c697-4a43-f7bf-f7b508b1ab2f"
      },
      "execution_count": 9,
      "outputs": [
        {
          "output_type": "stream",
          "name": "stdout",
          "text": [
            "133604296664192\n",
            "133605577572592\n",
            "133605577572592\n",
            "133605577572624\n",
            "133605577572624\n"
          ]
        }
      ]
    },
    {
      "cell_type": "code",
      "source": [
        "#Array vs List\n",
        "1. Fixed vs Dynamic\n",
        "2. Homogeneous vs Heterogeneous\n",
        "3. Speed of Execution\n",
        "4. Memory"
      ],
      "metadata": {
        "id": "UWeN_K8wtOyf"
      },
      "execution_count": null,
      "outputs": []
    },
    {
      "cell_type": "code",
      "source": [
        "#List is known as Referential array"
      ],
      "metadata": {
        "id": "6hvPhQvcugHv"
      },
      "execution_count": null,
      "outputs": []
    },
    {
      "cell_type": "code",
      "source": [
        "#Create a list"
      ],
      "metadata": {
        "id": "nYBLdOZuuoxc"
      },
      "execution_count": null,
      "outputs": []
    },
    {
      "cell_type": "code",
      "source": [
        "#Empty List\n",
        "print([])"
      ],
      "metadata": {
        "id": "ewCjBSVRQ31T"
      },
      "execution_count": null,
      "outputs": []
    },
    {
      "cell_type": "code",
      "source": [
        "#1D list\n",
        "# 1D Homogeneous\n",
        "print([1, 2, 3, 4])"
      ],
      "metadata": {
        "id": "yRhbnES5v7AV"
      },
      "execution_count": null,
      "outputs": []
    },
    {
      "cell_type": "code",
      "source": [
        "#2D Heterogeneous\n",
        "print([1, 2, 3, [4, 5]]"
      ],
      "metadata": {
        "id": "vNAlZY_eKlgv"
      },
      "execution_count": null,
      "outputs": []
    },
    {
      "cell_type": "code",
      "source": [
        "# 3D\n",
        "print([[[1, 2], [3, 4], [5, 6], [7, 8]]])"
      ],
      "metadata": {
        "id": "GXpIxuKCL30D"
      },
      "execution_count": null,
      "outputs": []
    },
    {
      "cell_type": "code",
      "source": [
        "# Heterogeneous_list\n",
        "print([1, 'two', 3.0, [4, 5], {'key': 'value'}])"
      ],
      "metadata": {
        "id": "mnHkUcrCKlsZ"
      },
      "execution_count": null,
      "outputs": []
    },
    {
      "cell_type": "code",
      "source": [
        "print(list(range(5)))"
      ],
      "metadata": {
        "id": "0alKFVNVL-CZ"
      },
      "execution_count": null,
      "outputs": []
    },
    {
      "cell_type": "code",
      "source": [],
      "metadata": {
        "id": "gIoJJ2NwwVzx"
      },
      "execution_count": null,
      "outputs": []
    },
    {
      "cell_type": "code",
      "source": [
        "#Accessing\n",
        "#Indexing\n",
        "#positive\n",
        "#negative\n",
        "#Slicing"
      ],
      "metadata": {
        "id": "Mq1ahD4IwZJt"
      },
      "execution_count": null,
      "outputs": []
    },
    {
      "cell_type": "code",
      "source": [
        "#2 ways to traverse a list- itemwise or indexwise"
      ],
      "metadata": {
        "id": "wZHEF5rAWyWc"
      },
      "execution_count": null,
      "outputs": []
    },
    {
      "cell_type": "code",
      "source": [
        "#Indexing\n",
        "List=[1,2,3,4,5,6]\n",
        "print(List[0])"
      ],
      "metadata": {
        "id": "m0amOl3KWydQ"
      },
      "execution_count": null,
      "outputs": []
    },
    {
      "cell_type": "code",
      "source": [
        "friend = [\"harry\",\"tom\",\"rani\",\"raja\",\"ram\",\"sam\"]\n"
      ],
      "metadata": {
        "id": "G-412nloRx9i"
      },
      "execution_count": null,
      "outputs": []
    },
    {
      "cell_type": "code",
      "source": [
        "print(friend[:3])"
      ],
      "metadata": {
        "id": "MxbRUV5GR1JV"
      },
      "execution_count": null,
      "outputs": []
    },
    {
      "cell_type": "code",
      "source": [
        "print(friend[-3:])"
      ],
      "metadata": {
        "id": "r9GyIgeBR13I"
      },
      "execution_count": null,
      "outputs": []
    },
    {
      "cell_type": "code",
      "source": [
        "l=[1, 7, 9, 11, 15, 0]\n",
        "print(l[1:7])\n",
        "print(l[1:7:1])\n",
        "print(l[1:7:2])\n",
        "print(l[-1:-5:-1]) #negative slicing. To do reverse printing\n",
        "print(l[-1:-5:-2]) #Reverse printing with step size of 2\n",
        "print(l[-5:-1:1]) #printing using neative indexing\n",
        "print(l[-5:-1:2])"
      ],
      "metadata": {
        "id": "CsabA5VURokZ"
      },
      "execution_count": null,
      "outputs": []
    },
    {
      "cell_type": "code",
      "source": [
        "L= [11,2,3,4,5]\n",
        "for element in L:\n",
        "    print(element)"
      ],
      "metadata": {
        "id": "JSc3Ok2kR-gv"
      },
      "execution_count": null,
      "outputs": []
    },
    {
      "cell_type": "code",
      "source": [
        "#Adding items to the list\n",
        "#append\n",
        "list=[[1,2,3], [4,5,6]]\n",
        "newlist=[]\n",
        "for i in list:\n",
        "  for j in i:\n",
        "   newlist.append(j)\n",
        "print(newlist)"
      ],
      "metadata": {
        "id": "HhDH2Zi54IiL",
        "colab": {
          "base_uri": "https://localhost:8080/"
        },
        "outputId": "f2e174db-6851-40e9-e43a-448f03840991"
      },
      "execution_count": null,
      "outputs": [
        {
          "output_type": "stream",
          "name": "stdout",
          "text": [
            "[1, 2, 3, 4, 5, 6]\n"
          ]
        }
      ]
    },
    {
      "cell_type": "code",
      "source": [
        "#extend"
      ],
      "metadata": {
        "id": "ffB2wZ8S4LWE"
      },
      "execution_count": null,
      "outputs": []
    },
    {
      "cell_type": "code",
      "source": [
        "#insert"
      ],
      "metadata": {
        "id": "QaCjshWX4NCG"
      },
      "execution_count": null,
      "outputs": []
    },
    {
      "cell_type": "code",
      "source": [
        "#Operators on List"
      ],
      "metadata": {
        "id": "-uv30FDq7Lqh"
      },
      "execution_count": null,
      "outputs": []
    },
    {
      "cell_type": "code",
      "source": [
        "#Arithmetic Operator\n",
        "#Membership Operator"
      ],
      "metadata": {
        "id": "O7DxwQHl7PI4"
      },
      "execution_count": null,
      "outputs": []
    },
    {
      "cell_type": "code",
      "source": [
        "#Editing with Indexing"
      ],
      "metadata": {
        "id": "L8SmK9O57PL2"
      },
      "execution_count": null,
      "outputs": []
    },
    {
      "cell_type": "code",
      "source": [
        "#Editing with Slicing"
      ],
      "metadata": {
        "id": "GMJShxdx7PO5"
      },
      "execution_count": null,
      "outputs": []
    },
    {
      "cell_type": "code",
      "source": [
        "#Deleting using Indexing"
      ],
      "metadata": {
        "id": "FyJ_HvtQ7PSS"
      },
      "execution_count": null,
      "outputs": []
    },
    {
      "cell_type": "code",
      "source": [
        "#Deleting using Slicing"
      ],
      "metadata": {
        "id": "ahXjVS-t7Lr2"
      },
      "execution_count": null,
      "outputs": []
    },
    {
      "cell_type": "code",
      "source": [
        "#Remove"
      ],
      "metadata": {
        "id": "S0fvOxd87fBg"
      },
      "execution_count": null,
      "outputs": []
    },
    {
      "cell_type": "code",
      "source": [
        "#pop()"
      ],
      "metadata": {
        "id": "3-r2iJuh7fEP"
      },
      "execution_count": null,
      "outputs": []
    },
    {
      "cell_type": "code",
      "source": [
        "#clear()"
      ],
      "metadata": {
        "id": "slshwO9X7fHG"
      },
      "execution_count": null,
      "outputs": []
    },
    {
      "cell_type": "code",
      "source": [],
      "metadata": {
        "id": "Gg1A7QNt7fKj"
      },
      "execution_count": null,
      "outputs": []
    },
    {
      "cell_type": "code",
      "source": [
        "#Basic Functions\n",
        "#len()\n",
        "\n",
        "\n",
        "\n"
      ],
      "metadata": {
        "id": "PDZkxoZu4k8R"
      },
      "execution_count": null,
      "outputs": []
    },
    {
      "cell_type": "code",
      "source": [
        "#max()"
      ],
      "metadata": {
        "id": "cC9inDJq4yYd"
      },
      "execution_count": null,
      "outputs": []
    },
    {
      "cell_type": "code",
      "source": [
        "#min()"
      ],
      "metadata": {
        "id": "j7qAFkov4yb1"
      },
      "execution_count": null,
      "outputs": []
    },
    {
      "cell_type": "code",
      "source": [
        "#sorted()\n",
        "list1=[2,5,6,8]\n",
        "list1.sort(reverse=True)\n",
        "print(list1)"
      ],
      "metadata": {
        "id": "MtX7XpKQ4yhd",
        "colab": {
          "base_uri": "https://localhost:8080/"
        },
        "outputId": "7ba23b3a-91ec-4e8e-f39f-06f1af9f3d1d"
      },
      "execution_count": null,
      "outputs": [
        {
          "output_type": "stream",
          "name": "stdout",
          "text": [
            "[8, 6, 5, 2]\n"
          ]
        }
      ]
    },
    {
      "cell_type": "code",
      "source": [
        "list1=[2,5,6,8]\n",
        "list2= list1.sort(reverse=True)\n",
        "print(list2)"
      ],
      "metadata": {
        "colab": {
          "base_uri": "https://localhost:8080/"
        },
        "id": "XCNVtVlIf3_y",
        "outputId": "4f675483-cfe1-4096-aa91-623991864312"
      },
      "execution_count": null,
      "outputs": [
        {
          "output_type": "stream",
          "name": "stdout",
          "text": [
            "None\n"
          ]
        }
      ]
    },
    {
      "cell_type": "code",
      "source": [
        "#count()"
      ],
      "metadata": {
        "id": "-ChslCm14vFt"
      },
      "execution_count": null,
      "outputs": []
    },
    {
      "cell_type": "code",
      "source": [
        "#index()"
      ],
      "metadata": {
        "id": "25aAmcHm4xE_"
      },
      "execution_count": null,
      "outputs": []
    },
    {
      "cell_type": "code",
      "source": [
        "#reverse()"
      ],
      "metadata": {
        "id": "xFnu-0nI4xIf"
      },
      "execution_count": null,
      "outputs": []
    },
    {
      "cell_type": "code",
      "source": [
        "#sort() vs sorted()"
      ],
      "metadata": {
        "id": "DukOcQSw4xbB"
      },
      "execution_count": null,
      "outputs": []
    },
    {
      "cell_type": "code",
      "source": [
        "#copy()"
      ],
      "metadata": {
        "id": "cAcaUfNP5Bfl"
      },
      "execution_count": null,
      "outputs": []
    },
    {
      "cell_type": "code",
      "source": [
        "#List Comprehension\n",
        "list=[[1,2,3], [4,5,6]]\n",
        "list2 =[j for i in list for j in i]\n",
        "print(list2)"
      ],
      "metadata": {
        "id": "9Ced-61v5FHN",
        "colab": {
          "base_uri": "https://localhost:8080/"
        },
        "outputId": "7fa94246-9e52-4661-9d4a-6689e59a3cdd"
      },
      "execution_count": null,
      "outputs": [
        {
          "output_type": "stream",
          "name": "stdout",
          "text": [
            "[1, 2, 3, 4, 5, 6]\n"
          ]
        }
      ]
    },
    {
      "cell_type": "code",
      "source": [
        "def remove_duplicates(input_str):\n",
        "    # Use list comprehension to filter unique characters while preserving order\n",
        "    return ''.join([char for i, char in enumerate(input_str) if char not in input_str[:i]])\n",
        "\n",
        "input_string = \"hello\"\n",
        "output_string = remove_duplicates(input_string)\n",
        "print(output_string)  # Output: \"helo\"\n"
      ],
      "metadata": {
        "id": "pr69t7gcCw4N"
      },
      "execution_count": null,
      "outputs": []
    },
    {
      "cell_type": "code",
      "source": [
        "# Convert a list of strings to integers\n",
        "str_list = ['1', '2', '3', '4']\n",
        "int_list = [int(x) for x in str_list]\n",
        "print(int_list)  # Output: [1, 2, 3, 4]\n"
      ],
      "metadata": {
        "id": "j9_CpMu5SVHW"
      },
      "execution_count": null,
      "outputs": []
    }
  ]
}