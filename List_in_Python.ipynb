{
  "nbformat": 4,
  "nbformat_minor": 0,
  "metadata": {
    "colab": {
      "provenance": []
    },
    "kernelspec": {
      "name": "python3",
      "display_name": "Python 3"
    },
    "language_info": {
      "name": "python"
    }
  },
  "cells": [
    {
      "cell_type": "code",
      "execution_count": null,
      "metadata": {
        "id": "284gKxS7p356"
      },
      "outputs": [],
      "source": [
        "#List definition- built in data type"
      ]
    },
    {
      "cell_type": "code",
      "source": [
        "#Diff types of data can be stored"
      ],
      "metadata": {
        "id": "DocERVv_qG8l"
      },
      "execution_count": null,
      "outputs": []
    },
    {
      "cell_type": "code",
      "source": [],
      "metadata": {
        "id": "igCaUlUeqPUP"
      },
      "execution_count": null,
      "outputs": []
    },
    {
      "cell_type": "code",
      "source": [],
      "metadata": {
        "id": "MhC18gPgtN8K"
      },
      "execution_count": null,
      "outputs": []
    },
    {
      "cell_type": "code",
      "source": [
        "#How array works\n",
        "#mechanism behind the list"
      ],
      "metadata": {
        "id": "7eBMwHbDqdB_"
      },
      "execution_count": null,
      "outputs": []
    },
    {
      "cell_type": "code",
      "source": [
        "#Array vs List\n",
        "1. Fixed vs Dynamic\n",
        "2. Homogeneous vs Heterogeneous\n",
        "3. Speed of Execution\n",
        "4. Memory"
      ],
      "metadata": {
        "id": "UWeN_K8wtOyf"
      },
      "execution_count": null,
      "outputs": []
    },
    {
      "cell_type": "code",
      "source": [
        "#List is known as Referential array"
      ],
      "metadata": {
        "id": "6hvPhQvcugHv"
      },
      "execution_count": null,
      "outputs": []
    },
    {
      "cell_type": "code",
      "source": [
        "#Create a list"
      ],
      "metadata": {
        "id": "nYBLdOZuuoxc"
      },
      "execution_count": null,
      "outputs": []
    },
    {
      "cell_type": "code",
      "source": [
        "#1D list"
      ],
      "metadata": {
        "id": "yRhbnES5v7AV"
      },
      "execution_count": null,
      "outputs": []
    },
    {
      "cell_type": "code",
      "source": [
        "#2D list"
      ],
      "metadata": {
        "id": "lJ5r5ksxv-Cv"
      },
      "execution_count": null,
      "outputs": []
    },
    {
      "cell_type": "code",
      "source": [
        "#3D list"
      ],
      "metadata": {
        "id": "wmTsRSOqwBIW"
      },
      "execution_count": null,
      "outputs": []
    },
    {
      "cell_type": "code",
      "source": [
        "#Heterogeneous list"
      ],
      "metadata": {
        "id": "YIz2ueYiwCuI"
      },
      "execution_count": null,
      "outputs": []
    },
    {
      "cell_type": "code",
      "source": [
        "#Type Conversion"
      ],
      "metadata": {
        "id": "gIoJJ2NwwVzx"
      },
      "execution_count": null,
      "outputs": []
    },
    {
      "cell_type": "code",
      "source": [
        "#Accessing\n",
        "#Indexing\n",
        "#positive\n",
        "#negative\n",
        "#Slicing"
      ],
      "metadata": {
        "id": "Mq1ahD4IwZJt"
      },
      "execution_count": null,
      "outputs": []
    },
    {
      "cell_type": "code",
      "source": [
        "#append"
      ],
      "metadata": {
        "id": "HhDH2Zi54IiL"
      },
      "execution_count": null,
      "outputs": []
    },
    {
      "cell_type": "code",
      "source": [
        "#extend"
      ],
      "metadata": {
        "id": "ffB2wZ8S4LWE"
      },
      "execution_count": null,
      "outputs": []
    },
    {
      "cell_type": "code",
      "source": [
        "#insert"
      ],
      "metadata": {
        "id": "QaCjshWX4NCG"
      },
      "execution_count": null,
      "outputs": []
    },
    {
      "cell_type": "code",
      "source": [
        "#Operators on List"
      ],
      "metadata": {
        "id": "-uv30FDq7Lqh"
      },
      "execution_count": null,
      "outputs": []
    },
    {
      "cell_type": "code",
      "source": [
        "#Arithmetic Operator\n",
        "#Membership Operator"
      ],
      "metadata": {
        "id": "O7DxwQHl7PI4"
      },
      "execution_count": null,
      "outputs": []
    },
    {
      "cell_type": "code",
      "source": [
        "#Editing with Indexing"
      ],
      "metadata": {
        "id": "L8SmK9O57PL2"
      },
      "execution_count": null,
      "outputs": []
    },
    {
      "cell_type": "code",
      "source": [
        "#Editing with Slicing"
      ],
      "metadata": {
        "id": "GMJShxdx7PO5"
      },
      "execution_count": null,
      "outputs": []
    },
    {
      "cell_type": "code",
      "source": [
        "#Deleting using Indexing"
      ],
      "metadata": {
        "id": "FyJ_HvtQ7PSS"
      },
      "execution_count": null,
      "outputs": []
    },
    {
      "cell_type": "code",
      "source": [
        "#Deleting using Slicing"
      ],
      "metadata": {
        "id": "ahXjVS-t7Lr2"
      },
      "execution_count": null,
      "outputs": []
    },
    {
      "cell_type": "code",
      "source": [
        "#Remove"
      ],
      "metadata": {
        "id": "S0fvOxd87fBg"
      },
      "execution_count": null,
      "outputs": []
    },
    {
      "cell_type": "code",
      "source": [
        "#pop()"
      ],
      "metadata": {
        "id": "3-r2iJuh7fEP"
      },
      "execution_count": null,
      "outputs": []
    },
    {
      "cell_type": "code",
      "source": [
        "#clear()"
      ],
      "metadata": {
        "id": "slshwO9X7fHG"
      },
      "execution_count": null,
      "outputs": []
    },
    {
      "cell_type": "code",
      "source": [],
      "metadata": {
        "id": "Gg1A7QNt7fKj"
      },
      "execution_count": null,
      "outputs": []
    },
    {
      "cell_type": "code",
      "source": [
        "#Basic Functions\n",
        "#len()\n",
        "\n",
        "\n",
        "\n"
      ],
      "metadata": {
        "id": "PDZkxoZu4k8R"
      },
      "execution_count": null,
      "outputs": []
    },
    {
      "cell_type": "code",
      "source": [
        "#max()"
      ],
      "metadata": {
        "id": "cC9inDJq4yYd"
      },
      "execution_count": null,
      "outputs": []
    },
    {
      "cell_type": "code",
      "source": [
        "#min()"
      ],
      "metadata": {
        "id": "j7qAFkov4yb1"
      },
      "execution_count": null,
      "outputs": []
    },
    {
      "cell_type": "code",
      "source": [
        "#sorted()"
      ],
      "metadata": {
        "id": "MtX7XpKQ4yhd"
      },
      "execution_count": null,
      "outputs": []
    },
    {
      "cell_type": "code",
      "source": [
        "#count()"
      ],
      "metadata": {
        "id": "-ChslCm14vFt"
      },
      "execution_count": null,
      "outputs": []
    },
    {
      "cell_type": "code",
      "source": [
        "#index()"
      ],
      "metadata": {
        "id": "25aAmcHm4xE_"
      },
      "execution_count": null,
      "outputs": []
    },
    {
      "cell_type": "code",
      "source": [
        "#reverse()"
      ],
      "metadata": {
        "id": "xFnu-0nI4xIf"
      },
      "execution_count": null,
      "outputs": []
    },
    {
      "cell_type": "code",
      "source": [
        "#cort() vs sorted()"
      ],
      "metadata": {
        "id": "DukOcQSw4xbB"
      },
      "execution_count": null,
      "outputs": []
    },
    {
      "cell_type": "code",
      "source": [
        "#copy()"
      ],
      "metadata": {
        "id": "cAcaUfNP5Bfl"
      },
      "execution_count": null,
      "outputs": []
    },
    {
      "cell_type": "code",
      "source": [
        "#List Comprehension"
      ],
      "metadata": {
        "id": "9Ced-61v5FHN"
      },
      "execution_count": null,
      "outputs": []
    }
  ]
}